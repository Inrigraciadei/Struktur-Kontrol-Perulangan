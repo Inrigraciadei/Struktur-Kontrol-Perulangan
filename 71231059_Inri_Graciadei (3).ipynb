{
  "nbformat": 4,
  "nbformat_minor": 0,
  "metadata": {
    "colab": {
      "provenance": []
    },
    "kernelspec": {
      "name": "python3",
      "display_name": "Python 3"
    },
    "language_info": {
      "name": "python"
    }
  },
  "cells": [
    {
      "cell_type": "code",
      "execution_count": null,
      "metadata": {
        "id": "ThxB0f-Tp1VM"
      },
      "outputs": [],
      "source": []
    },
    {
      "cell_type": "markdown",
      "source": [
        "Soal 1"
      ],
      "metadata": {
        "id": "nzeAtbhup3FG"
      }
    },
    {
      "cell_type": "code",
      "source": [
        "def perkalian():\n",
        "    angka = int(input(\"Masukkan angka: \"))\n",
        "    kali = int(input(\"Masukkan perkalian yang anda inginkan: \"))\n",
        "\n",
        "    nilai_awal = (f\"{angka} x {kali} =\")\n",
        "    penjumlahan_berulang = (f\" + \".join([str(kali) for i in range(angka)]))\n",
        "    nilai_akhir = (f\"= {angka * kali}\")\n",
        "\n",
        "    print(nilai_awal, penjumlahan_berulang, nilai_akhir)\n",
        "\n",
        "perkalian()"
      ],
      "metadata": {
        "colab": {
          "base_uri": "https://localhost:8080/"
        },
        "id": "FOvBp929p4St",
        "outputId": "5f501aff-51fb-40e0-97ee-9a8c5421d388"
      },
      "execution_count": 1,
      "outputs": [
        {
          "output_type": "stream",
          "name": "stdout",
          "text": [
            "Masukkan angka: 7\n",
            "Masukkan perkalian yang anda inginkan: 10\n",
            "7 x 10 = 10 + 10 + 10 + 10 + 10 + 10 + 10 = 70\n"
          ]
        }
      ]
    },
    {
      "cell_type": "markdown",
      "source": [
        "Soal 2"
      ],
      "metadata": {
        "id": "vl17Io--qMk8"
      }
    },
    {
      "cell_type": "code",
      "source": [
        "def bilangan_ganjil():\n",
        "    batas_bawah = int(input(\"Masukkan batas bawah yang anda inginkan: \"))\n",
        "    batas_atas = int(input(\"Masukkan batas atas yang anda inginkan: \"))\n",
        "\n",
        "    if batas_bawah < batas_atas:\n",
        "        for m in range(batas_bawah, batas_atas + 1):\n",
        "            if m % 2 != 0:\n",
        "                print(m)\n",
        "    elif batas_bawah > batas_atas:\n",
        "        for m in range(batas_bawah, batas_atas -1, -1):\n",
        "            if m % 2 != 0:\n",
        "                print(m)\n",
        "\n",
        "bilangan_ganjil()"
      ],
      "metadata": {
        "colab": {
          "base_uri": "https://localhost:8080/"
        },
        "id": "ItBsBJahqNoS",
        "outputId": "d65c596d-cb08-458a-a3b8-754798bc69de"
      },
      "execution_count": 2,
      "outputs": [
        {
          "output_type": "stream",
          "name": "stdout",
          "text": [
            "Masukkan batas bawah yang anda inginkan: 10\n",
            "Masukkan batas atas yang anda inginkan: 25\n",
            "11\n",
            "13\n",
            "15\n",
            "17\n",
            "19\n",
            "21\n",
            "23\n",
            "25\n"
          ]
        }
      ]
    },
    {
      "cell_type": "markdown",
      "source": [
        "Soal 3"
      ],
      "metadata": {
        "id": "nASbXsjrqYJr"
      }
    },
    {
      "cell_type": "code",
      "source": [
        "def IPS():\n",
        "    jumlah_mata_kuliah = int(input(\"Masukkan jumlah mata kuliah: \"))\n",
        "    total = 0\n",
        "    for g in range(1, jumlah_mata_kuliah + 1):\n",
        "        i = input(f\"Nilai MK {g}: \")\n",
        "\n",
        "        if i == \"A\":\n",
        "            total += 4\n",
        "        elif i == \"B\":\n",
        "            total += 3\n",
        "        elif i == \"C\":\n",
        "            total += 2\n",
        "        elif i == \"D\":\n",
        "            total += 1\n",
        "\n",
        "    total = total/g\n",
        "    print(f\"Nilai IPS Anda untuk semester ini: {total:.2f}\")\n",
        "\n",
        "IPS()"
      ],
      "metadata": {
        "colab": {
          "base_uri": "https://localhost:8080/"
        },
        "id": "j3RXd8N5qZOw",
        "outputId": "647bdbba-bd12-4a14-ff8a-2087a38527ea"
      },
      "execution_count": 3,
      "outputs": [
        {
          "output_type": "stream",
          "name": "stdout",
          "text": [
            "Masukkan jumlah mata kuliah: 5\n",
            "Nilai MK 1: A\n",
            "Nilai MK 2: B\n",
            "Nilai MK 3: C\n",
            "Nilai MK 4: D\n",
            "Nilai MK 5: A\n",
            "Nilai IPS Anda untuk semester ini: 2.80\n"
          ]
        }
      ]
    }
  ]
}